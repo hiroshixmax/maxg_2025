{
 "cells": [
  {
   "cell_type": "raw",
   "metadata": {
    "vscode": {
     "languageId": "raw"
    }
   },
   "source": [
    "---\n",
    "layout: HW\n",
    "title: Lesson HW\n",
    "description: Module 1 Hw\n",
    "categories: [Collaboration]\n",
    "courses: { csse: {week: 3}, csp: {week: 3}, csa: {week: 2} }\n",
    "menu: nav/pair_programming.html\n",
    "permalink: /LessonHW\n",
    "type: collab\n",
    "comments: true\n",
    "---"
   ]
  },
  {
   "cell_type": "code",
   "execution_count": null,
   "metadata": {
    "vscode": {
     "languageId": "javascript"
    }
   },
   "outputs": [],
   "source": [
    "//ask the user for their details\n",
    "let name = prompt(\"Please enter your name\");\n",
    "let age = prompt(\"Please enter your age\");\n",
    "let favoriteFood = prompt(\"Please enter your favorite food\");\n",
    "let favoriteBook = prompt(\"Please enter your favorite book\");\n",
    "// Create a cohesive message using template literals (string interpolation)\n",
    "let message = `Hello, ${name}! You are ${age} years old, love eating ${favoriteFood}, and enjoy reading \"${favoriteBook}\". That's awesome!`;\n",
    "// Display the message to the user\n",
    "alert(message);\n",
    "// Optionally log it to the console as well\n",
    "console.log(message);"
   ]
  },
  {
   "cell_type": "code",
   "execution_count": null,
   "metadata": {},
   "outputs": [],
   "source": [
    "def count_vowels(input_string):\n",
    "    # Convert the string to lowercase to make the search case-insensitive\n",
    "    input_string = input_string.lower()\n",
    "    # Define a set of vowels\n",
    "    vowels = set('aeiou')\n",
    "    # Initialize a counter\n",
    "    vowel_count = 0\n",
    "    # Loop through each character in the input string\n",
    "    for char in input_string:\n",
    "        if char in vowels:\n",
    "            vowel_count += 1\n",
    "    return vowel_count\n",
    "# Example usage\n",
    "user_input = input(\"Enter a string: \")\n",
    "vowel_count = count_vowels(user_input)\n",
    "print(f\"The number of vowels in the string is: {vowel_count}\")"
   ]
  },
  {
   "cell_type": "code",
   "execution_count": null,
   "metadata": {
    "vscode": {
     "languageId": "javascript"
    }
   },
   "outputs": [],
   "source": [
    "// Product 1 variables\n",
    "\n",
    "let productName1 = \"Laptop\";\n",
    "let productPrice1 = 1200;\n",
    "let productStock1 = 10;\n",
    "\n",
    "// Product 2 variables\n",
    "let productName2 = \"Smartphone\";\n",
    "let productPrice2 = 800;\n",
    "let productStock2 = 20;\n",
    "\n",
    "// Output messages describing each product\n",
    "let message1 = `The store has ${productStock1} units of ${productName1} priced at $${productPrice1} each.`;\n",
    "let message2 = `The store has ${productStock2} units of ${productName2} priced at $${productPrice2} each.`;\n",
    "\n",
    "// Display the messages\n",
    "console.log(message1);\n",
    "console.log(message2);"
   ]
  },
  {
   "cell_type": "code",
   "execution_count": 2,
   "metadata": {},
   "outputs": [
    {
     "name": "stdout",
     "output_type": "stream",
     "text": [
      "a = 5\n",
      "b = 10\n"
     ]
    }
   ],
   "source": [
    "# Step 1: Intialize Variable\n",
    "a = 5\n",
    "b = 10\n",
    "\n",
    "# Step 2: Swap values without using a temporary variable\n",
    "# Your code here\n",
    "# Step 3: Print the swapped values\n",
    "print(\"a =\", a)\n",
    "print(\"b =\", b)"
   ]
  }
 ],
 "metadata": {
  "kernelspec": {
   "display_name": "venv",
   "language": "python",
   "name": "python3"
  },
  "language_info": {
   "codemirror_mode": {
    "name": "ipython",
    "version": 3
   },
   "file_extension": ".py",
   "mimetype": "text/x-python",
   "name": "python",
   "nbconvert_exporter": "python",
   "pygments_lexer": "ipython3",
   "version": "3.10.12"
  },
  "orig_nbformat": 4
 },
 "nbformat": 4,
 "nbformat_minor": 2
}
