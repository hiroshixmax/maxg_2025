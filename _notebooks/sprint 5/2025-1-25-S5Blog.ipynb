{
 "cells": [
  {
   "cell_type": "markdown",
   "metadata": {},
   "source": [
    "---\n",
    "layout: post\n",
    "title: Sprint 5 Blog\n",
    "description:  Here's where I will present \"Sprint 5 Blog\"\n",
    "courses: {csp: {week: 12}}\n",
    "type: issues \n",
    "comments: true\n",
    "---"
   ]
  },
  {
   "cell_type": "markdown",
   "metadata": {},
   "source": [
    "\n",
    "## Group  \n",
    "Our program's goal is to create a multiplayer drawing and guessing game, inspired by Scribble.io. Players take turns drawing, while others try to guess the word or phrase being illustrated. The game aims to offer an interactive and fun experience, promoting collaboration, creativity, and quick thinking.\n",
    "\n",
    "## Individual  \n",
    "My individual contribution focuses on developing the statistics page. This feature will track key player data, such as guesses made, accuracy, and overall performance throughout the game. The goal is to provide players with valuable insights into their progress and gameplay style, adding a layer of depth and motivation to the experience. By displaying real-time statistics, the feature enhances the competitive aspect of the game, encouraging players to improve and engage more deeply with the game.\n",
    "\n",
    "\n",
    "# Stats API \n",
    "\n",
    "## 1. List Requests, Use of Lists, Dictionaries, and Database\n",
    "\n",
    "### List Requests\n",
    "The Stats API supports the following requests:\n",
    "- **GET** `/api/stats`: Retrieve the stat entries.\n",
    "- **POST** `/api/stats`: Add a new stat entry.\n",
    "- **PUT** `/api/stats`: Update an existing stat entry.\n",
    "- **DELETE** `/api/stats/<profile_name>/<Guess>`: Delete a specific stat entry.\n",
    "\n",
    "### Use of Lists and Dictionaries\n",
    "In the API, we use lists to handle multiple stats entries and dictionaries to represent individual entries. The database rows are converted to dictionaries for JSON responses.\n",
    "\n",
    "#### Example:\n"
   ]
  },
  {
   "cell_type": "code",
   "execution_count": null,
   "metadata": {},
   "outputs": [],
   "source": [
    "\n",
    "# Fetching all stats and converting to a list of dictionaries\n",
    "all_stats = Stats.query.all()\n",
    "stats_list = [{\n",
    "    \"username\": stat.user_name,\n",
    "    \"correct_guesses\": stat.correct_guesses,\n",
    "    \"wrong_guesses\": stat.wrong_guesses\n",
    "} for stat in all_stats]\n",
    "\n"
   ]
  },
  {
   "cell_type": "markdown",
   "metadata": {},
   "source": [
    "## 2. Formatting Response Data (JSON) from API into DOM\n",
    "We use Flask's jsonify function to format the response data as JSON. In the frontend, we use JavaScript to fetch the JSON data from the API and update the DOM. This involves converting the JSON response into HTML elements to display the statistics.\n",
    "\n",
    "#### Example:\n"
   ]
  },
  {
   "cell_type": "code",
   "execution_count": null,
   "metadata": {},
   "outputs": [],
   "source": [
    "@stats_api.route('/api/statistics', methods=['GET'])\n",
    "def get_statistics():\n",
    "    try:\n",
    "        stats = Stats.query.first()\n",
    "        if not stats:\n",
    "            return jsonify({\n",
    "                \"correct_guesses\": 0,\n",
    "                \"wrong_guesses\": 0,\n",
    "                \"total_rounds\": 0\n",
    "            }), 200\n",
    "        return jsonify(stats.read()), 200\n",
    "    except Exception as e:\n",
    "        return jsonify({\"error\": str(e)}), 500\n",
    "\n"
   ]
  },
  {
   "cell_type": "markdown",
   "metadata": {},
   "source": [
    "## 3. Database Queries\n",
    "We use SQLAlchemy ORM to interact with the database. SQLAlchemy provides methods to query the database and return results as Python lists. For example, we can retrieve all statistics entries sorted by score or filter entries by profile name.\n",
    "\n",
    "#### Example:\n"
   ]
  },
  {
   "cell_type": "code",
   "execution_count": null,
   "metadata": {},
   "outputs": [],
   "source": [
    "# Fetching all statistics entries from the database\n",
    "all_stats = Stats.query.all()\n",
    "\n",
    "# Filtering by username\n",
    "stats = Stats.query.filter_by(user_name=username).first()\n",
    "\n"
   ]
  },
  {
   "cell_type": "markdown",
   "metadata": {},
   "source": [
    "## 4. CRUD Methods in Class\n",
    "We define methods in the **StatsEntry** class to perform CRUD operations on the database:\n",
    "\n",
    "- Create: Adds a new entry to the database.\n",
    "- Read: Converts a database entry to a dictionary.\n",
    "- Update: Updates entry fields with new data.\n",
    "- Delete: Removes an entry from the database.\n",
    "\n",
    "#### Example:\n"
   ]
  },
  {
   "cell_type": "code",
   "execution_count": null,
   "metadata": {},
   "outputs": [],
   "source": [
    "class Stats(db.Model):\n",
    "    # Create\n",
    "    def create(self):\n",
    "        db.session.add(self)\n",
    "        db.session.commit()\n",
    "        \n",
    "    # Read\n",
    "    def read(self):\n",
    "        return {\n",
    "            \"username\": self.user_name,\n",
    "            \"correct_guesses\": self.correct_guesses,\n",
    "            \"wrong_guesses\": self.wrong_guesses,\n",
    "            \"total_rounds\": self.total_rounds\n",
    "        }\n",
    "        \n",
    "    # Update\n",
    "    def update(self, data):\n",
    "        for key, value in data.items():\n",
    "            setattr(self, key, value)\n",
    "        db.session.commit()\n",
    "        \n",
    "    # Delete\n",
    "    def delete(self):\n",
    "        db.session.delete(self)\n",
    "        db.session.commit()\n"
   ]
  },
  {
   "cell_type": "markdown",
   "metadata": {},
   "source": [
    "## 5. Algorithmic Code Request\n",
    "We define API endpoints to handle different types of requests. For example, the **PUT** request to update a statistics entry involves checking if the entry exists, updating the score if it does, or creating a new entry if it doesn't.\n",
    "\n",
    "#### Example:\n"
   ]
  },
  {
   "cell_type": "code",
   "execution_count": null,
   "metadata": {},
   "outputs": [],
   "source": [
    "@stats_api.route('/api/statistics', methods=['POST'])\n",
    "def update_statistics():\n",
    "    try:\n",
    "        data = request.get_json()\n",
    "        \n",
    "        if not data or 'username' not in data:\n",
    "            return jsonify({\"error\": \"Username required\"}), 400\n",
    "\n",
    "        stats = Stats.query.filter_by(user_name=data['username']).first()\n",
    "        if not stats:\n",
    "            stats = Stats(\n",
    "                user_name=data['username'],\n",
    "                correct_guesses=int(data.get('correct', 0)),\n",
    "                wrong_guesses=int(data.get('wrong', 0)),\n",
    "                total_rounds=1\n",
    "            )\n",
    "            db.session.add(stats)\n",
    "        else:\n",
    "            stats.correct_guesses += int(data.get('correct', 0))\n",
    "            stats.wrong_guesses += int(data.get('wrong', 0))\n",
    "            stats.total_rounds += 1\n",
    "\n",
    "        db.session.commit()\n",
    "        \n",
    "        all_stats = Stats.query.all()\n",
    "        stats_list = [{\n",
    "            \"username\": stat.user_name,\n",
    "            \"correct_guesses\": stat.correct_guesses,\n",
    "            \"wrong_guesses\": stat.wrong_guesses\n",
    "        } for stat in all_stats]\n",
    "        \n",
    "        return jsonify(stats_list), 200\n",
    "\n",
    "    except Exception as e:\n",
    "        db.session.rollback()\n",
    "        return jsonify({\"error\": str(e)}), 500\n"
   ]
  },
  {
   "cell_type": "markdown",
   "metadata": {},
   "source": [
    "## 6. API Class\n",
    "We use Flask's **Blueprint** to define the API routes. The **stats_api** blueprint handles the **GET, POST, PUT, and DELETE** methods, allowing us to organize the API endpoints and their implementations.\n",
    "\n",
    "#### Example:\n"
   ]
  },
  {
   "cell_type": "code",
   "execution_count": null,
   "metadata": {},
   "outputs": [],
   "source": [
    "stats_api = Blueprint('stats_api', __name__)\n",
    "\n",
    "@stats_api.route('/api/statistics', methods=['GET'])\n",
    "def get_statistics():\n",
    "    # Implementation for GET request\n",
    "    pass\n",
    "\n",
    "@stats_api.route('/api/statistics', methods=['POST'])\n",
    "def update_statistics():\n",
    "    # Implementation for POST request\n",
    "    pass\n",
    "\n",
    "@stats_api.route('/api/statistics/<username>', methods=['DELETE'])\n",
    "def delete_statistics(username):\n",
    "    # Implementation for DELETE request\n",
    "    pass\n"
   ]
  },
  {
   "cell_type": "markdown",
   "metadata": {},
   "source": [
    "## 7. Method with Sequencing, Selection, and Iteration\n",
    "The **update_stats_entry** method contains sequencing (steps to process the request), selection (conditional checks), and iteration (looping through data if needed). This method updates an existing entry or creates a new one based on the provided data.\n",
    "\n",
    "#### Example:\n"
   ]
  },
  {
   "cell_type": "code",
   "execution_count": null,
   "metadata": {},
   "outputs": [],
   "source": [
    "@stats_api.route('/api/statistics', methods=['POST'])\n",
    "def update_statistics():\n",
    "    try:\n",
    "        data = request.get_json()\n",
    "        if not data or 'username' not in data:\n",
    "            return jsonify({\"error\": \"Username required\"}), 400\n",
    "\n",
    "        stats = Stats.query.filter_by(user_name=data['username']).first()\n",
    "        if not stats:\n",
    "            stats = Stats(\n",
    "                user_name=data['username'],\n",
    "                correct_guesses=int(data.get('correct', 0)),\n",
    "                wrong_guesses=int(data.get('wrong', 0)),\n",
    "                total_rounds=1\n",
    "            )\n",
    "            db.session.add(stats)\n",
    "        else:\n",
    "            stats.correct_guesses += int(data.get('correct', 0))\n",
    "            stats.wrong_guesses += int(data.get('wrong', 0))\n",
    "            stats.total_rounds += 1\n",
    "\n",
    "        db.session.commit()\n",
    "\n",
    "        all_stats = Stats.query.all()\n",
    "        stats_list = [{\n",
    "            \"username\": stat.user_name,\n",
    "            \"correct_guesses\": stat.correct_guesses,\n",
    "            \"wrong_guesses\": stat.wrong_guesses\n",
    "        } for stat in all_stats]\n",
    "\n",
    "        return jsonify(stats_list), 200\n",
    "\n",
    "    except Exception as e:\n",
    "        db.session.rollback()\n",
    "        return jsonify({\"error\": str(e)}), 500\n"
   ]
  },
  {
   "cell_type": "markdown",
   "metadata": {},
   "source": [
    "## 8. Parameters and Return Type\n",
    "The **update_stats_entry** method takes JSON data as input and returns a JSON response. The input data includes **profile_name, game_name, and score**. The response is formatted using **jsonify** to ensure it is returned as a JSON object.\n",
    "\n",
    "#### Example:\n"
   ]
  },
  {
   "cell_type": "code",
   "execution_count": null,
   "metadata": {},
   "outputs": [],
   "source": [
    "@stats_api.route('/api/statistics', methods=['POST'])\n",
    "def update_statistics():\n",
    "    try:\n",
    "        data = request.get_json()\n",
    "        if not data or 'username' not in data:\n",
    "            return jsonify({\"error\": \"Username required\"}), 400\n",
    "\n",
    "        stats = Stats.query.filter_by(user_name=data['username']).first()\n",
    "        if not stats:\n",
    "            stats = Stats(\n",
    "                user_name=data['username'],\n",
    "                correct_guesses=int(data.get('correct', 0)),\n",
    "                wrong_guesses=int(data.get('wrong', 0)),\n",
    "                total_rounds=1\n",
    "            )\n",
    "            db.session.add(stats)\n",
    "        else:\n",
    "            stats.correct_guesses += int(data.get('correct', 0))\n",
    "            stats.wrong_guesses += int(data.get('wrong', 0))\n",
    "            stats.total_rounds += 1\n",
    "\n",
    "        db.session.commit()\n",
    "        \n",
    "        all_stats = Stats.query.all()\n",
    "        stats_list = [{\n",
    "            \"username\": stat.user_name,\n",
    "            \"correct_guesses\": stat.correct_guesses,\n",
    "            \"wrong_guesses\": stat.wrong_guesses\n",
    "        } for stat in all_stats]\n",
    "\n",
    "        return jsonify(stats_list), 200\n",
    "\n",
    "    except Exception as e:\n",
    "        db.session.rollback()\n",
    "        return jsonify({\"error\": str(e)}), 500\n"
   ]
  },
  {
   "cell_type": "markdown",
   "metadata": {},
   "source": [
    "## 9. Call to Algorithm Request\n",
    "In the frontend, we use the **fetch** API to make requests to the backend. For example, to submit a score, we send a **PUT** request with the profile name, game name, and score. The response is handled by checking the status and updating the DOM accordingly. If the request is successful, we update the statistics; if there's an error, we display an error message.\n",
    "\n",
    "#### Example:\n"
   ]
  },
  {
   "cell_type": "code",
   "execution_count": null,
   "metadata": {},
   "outputs": [],
   "source": [
    "async function submitScore() {\n",
    "    const username = document.getElementById('username').value.trim();\n",
    "    const correct = parseInt(document.getElementById('correct').value);\n",
    "    const wrong = parseInt(document.getElementById('wrong').value);\n",
    "\n",
    "    if (!username) {\n",
    "        showMessage('Please fill in all fields', true);\n",
    "        return;\n",
    "    }\n",
    "\n",
    "    try {\n",
    "        const response = await fetch(API_URL, {\n",
    "            method: 'POST',\n",
    "            headers: {\n",
    "                'Content-Type': 'application/json',\n",
    "            },\n",
    "            body: JSON.stringify({\n",
    "                username: username,\n",
    "                correct: correct,\n",
    "                wrong: wrong\n",
    "            })\n",
    "        });\n",
    "\n",
    "        const data = await response.json();\n",
    "\n",
    "        if (response.ok) {\n",
    "            showMessage('Score updated successfully!');\n",
    "            await fetchStats();\n",
    "        } else {\n",
    "            throw new Error(data.error || 'Failed to submit score');\n",
    "        }\n",
    "    } catch (error) {\n",
    "        console.error('Error:', error);\n",
    "        showMessage(error.message, true);\n",
    "    }\n",
    "}\n"
   ]
  }
 ],
 "metadata": {
  "language_info": {
   "name": "python"
  }
 },
 "nbformat": 4,
 "nbformat_minor": 2
}
