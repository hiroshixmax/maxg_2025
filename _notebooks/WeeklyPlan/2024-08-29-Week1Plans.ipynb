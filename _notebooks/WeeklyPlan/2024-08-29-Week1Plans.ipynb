{
 "cells": [
  {
   "cell_type": "markdown",
   "metadata": {},
   "source": [
    "---\n",
    "layout: post\n",
    "title: Week 1 Plans\n",
    "description:  Week 1 Plans\n",
    "courses: {csp: {week: 1} }\n",
    "type: issues \n",
    "comments: true\n",
    "---"
   ]
  },
  {
   "cell_type": "markdown",
   "metadata": {},
   "source": [
    "\n",
    "# ***Get started...***\n",
    "\n",
    "- Get started on the *\"Tools and Equipment\" (Setup + Verify)*.\n",
    "\n",
    "- Get started on the *\"GitHub Pages Playground\"*.\n",
    "\n",
    "- Get started on the *\"Frontend Development\"*.\n",
    "\n",
    "- Get started on the *\"Javascript Project Playground\"*.\n",
    "\n",
    "- Get started on the *\"SASS basics\"*.\n",
    "\n",
    "- Got the Remeber 4 ever quiz done.\n",
    "    - Submitted a issue with pictures proves.\n"
   ]
  }
 ],
 "metadata": {
  "language_info": {
   "name": "python"
  }
 },
 "nbformat": 4,
 "nbformat_minor": 2
}
