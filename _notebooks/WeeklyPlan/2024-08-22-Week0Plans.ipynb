{
 "cells": [
  {
   "cell_type": "markdown",
   "metadata": {},
   "source": [
    "---\n",
    "layout: post\n",
    "title: Week 0 Plans\n",
    "description:  Week 0 Plans\n",
    "courses: {csp: {week: 0} }\n",
    "type: issues \n",
    "comments: true\n",
    "---"
   ]
  },
  {
   "cell_type": "markdown",
   "metadata": {},
   "source": [
    "\n",
    "# ***Get the tools set up***\n",
    "\n",
    "- Look at the **README.md**.\n",
    "\n",
    "- Look at the things that we need to do next week.\n",
    "    - So that I'm prepared.\n",
    "    \n",
    "- Have everything set up for vscode\n",
    "    - Including:\n",
    "        - Tool Setup\n",
    "        - etc..."
   ]
  }
 ],
 "metadata": {
  "language_info": {
   "name": "python"
  }
 },
 "nbformat": 4,
 "nbformat_minor": 2
}
