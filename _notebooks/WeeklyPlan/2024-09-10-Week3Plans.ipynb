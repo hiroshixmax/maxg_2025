{
 "cells": [
  {
   "cell_type": "markdown",
   "metadata": {},
   "source": [
    "---\n",
    "layout: post\n",
    "title: Week 3 Plans\n",
    "description:  Week 3 Plans\n",
    "courses: {csp: {week: 3} }\n",
    "type: issues \n",
    "comments: true\n",
    "---"
   ]
  },
  {
   "cell_type": "markdown",
   "metadata": {},
   "source": [
    "# ***Live Reivew...***\n",
    "\n",
    "- Get ready for the **Sprint 1** live review.\n",
    "\n",
    "    - Checking the completions for the Sprint 1 HACKS...\n",
    "\n",
    "        - ***Python Hacks***... (Emoji + Wikipedia...)\n",
    "            - 100%\n",
    "\n",
    "        - ***JavaScript Hacks***.\n",
    "            - Cookie Cliker\n",
    "                - 100%\n",
    "\n",
    "            - Calculator\n",
    "                - 100%\n",
    "\n",
    "            - Snake\n",
    "                - 100%\n",
    "\n",
    "        - ***FrontEnd Hack***\n",
    "            - 100%\n",
    "            \n",
    "        - ***GitHub Page Hack***\n",
    "            - 95%\n",
    "                - Missing the SASS hack\n",
    "                    - Couldn't compile the _sass --> css\n",
    "        \n",
    "\n"
   ]
  }
 ],
 "metadata": {
  "language_info": {
   "name": "python"
  }
 },
 "nbformat": 4,
 "nbformat_minor": 2
}
