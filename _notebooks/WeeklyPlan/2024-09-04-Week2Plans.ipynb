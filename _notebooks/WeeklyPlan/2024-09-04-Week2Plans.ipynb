{
 "cells": [
  {
   "cell_type": "markdown",
   "metadata": {},
   "source": [
    "---\n",
    "layout: post\n",
    "title: Week 2 Plans\n",
    "description:  Week 2 Plans\n",
    "courses: {csp: {week: 2} }\n",
    "type: issues \n",
    "comments: true\n",
    "---"
   ]
  },
  {
   "cell_type": "markdown",
   "metadata": {},
   "source": [
    "\n",
    "# ***Code, code, code...***\n",
    "\n",
    "- Get started on the *\"Tools and Equipment\"*.\n",
    "    - 100% done.\n",
    "\n",
    "- Get started on the *\"GitHub Pages Playground\"*.\n",
    "    - 100% done.\n",
    "\n",
    "- Get started on the *\"Frontend Development\"*.\n",
    "    - 100% done.\n",
    "\n",
    "- Get started on the *\"Javascript Project Playground\"*.\n",
    "    - Calculator done.\n",
    "    - Cookie Clicker done.\n",
    "    - Snake game done.\n",
    "    - 100% done.\n",
    "\n",
    "- Get started on the *\"SASS basics\"*.\n",
    "    - 80% done.\n",
    "\n",
    "- More features for the About.md page.\n",
    "    - 100% done.\n",
    "\n"
   ]
  }
 ],
 "metadata": {
  "language_info": {
   "name": "python"
  }
 },
 "nbformat": 4,
 "nbformat_minor": 2
}
