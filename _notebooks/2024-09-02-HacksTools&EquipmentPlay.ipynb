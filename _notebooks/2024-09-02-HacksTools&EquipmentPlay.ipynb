{
 "cells": [
  {
   "cell_type": "markdown",
   "metadata": {
    "vscode": {
     "languageId": "yaml"
    }
   },
   "source": [
    "---\n",
    "layout: post\n",
    "categories: [DevOps]\n",
    "title: Python Hacks Tools & Equipment Play Hacks\n",
    "description:  Here's where I will present \"Hacks Tools & Equipment Play Hacks\"\n",
    "courses: {csp: {week: 2}}\n",
    "type: ccc \n",
    "comments: true\n",
    "---"
   ]
  },
  {
   "cell_type": "markdown",
   "metadata": {},
   "source": [
    "# ***Seaching in Wikipedia + Summary ↓↓↓***"
   ]
  },
  {
   "cell_type": "code",
   "execution_count": 4,
   "metadata": {},
   "outputs": [
    {
     "name": "stdout",
     "output_type": "stream",
     "text": [
      "math\n"
     ]
    },
    {
     "data": {
      "text/markdown": [
       "Mathematics is a field of study that discovers and organizes methods, theories and theorems that are developed and proved for the needs of empirical sciences and mathematics itself. There are many areas of mathematics, which include number theory (the study of numbers), algebra (the study of formulas and related structures), geometry (the study of shapes and spaces that contain them), analysis (the study of continuous changes), and set theory (presently used as a foundation for all mathematics).\n",
       "Mathematics involves the description and manipulation of abstract objects that consist of either abstractions from nature or—in modern mathematics—purely abstract entities that are stipulated to have certain properties, called axioms.  Mathematics uses pure reason to prove properties of objects, a proof consisting of a succession of applications of deductive rules to already established results. These results include previously proved theorems, axioms, and—in case of abstraction from nature—some basic properties that are considered true starting points of the theory under consideration.\n",
       "Mathematics is essential in the natural sciences, engineering, medicine, finance, computer science, and the social sciences. Although mathematics is extensively used for modeling phenomena, the fundamental truths of mathematics are independent of any scientific experimentation. Some areas of mathematics, such as statistics and game theory, are developed in close correlation with their applications and are often grouped under applied mathematics. Other areas are developed independently from any application (and are therefore called pure mathematics) but often later find practical applications.\n",
       "Historically, the concept of a proof and its associated mathematical rigour first appeared in Greek mathematics, most notably in Euclid's Elements. Since its beginning, mathematics was primarily divided into geometry and arithmetic (the manipulation of natural numbers and fractions), until the 16th and 17th centuries, when algebra and infinitesimal calculus were introduced as new fields. Since then, the interaction between mathematical innovations and scientific discoveries has led to a correlated increase in the development of both. At the end of the 19th century, the foundational crisis of mathematics led to the systematization of the axiomatic method, which heralded a dramatic increase in the number of mathematical areas and their fields of application. The contemporary Mathematics Subject Classification lists more than sixty first-level areas of mathematics."
      ],
      "text/plain": [
       "<IPython.core.display.Markdown object>"
      ]
     },
     "metadata": {},
     "output_type": "display_data"
    }
   ],
   "source": [
    "import wikipedia \n",
    "from IPython.display import display, Markdown  # For Jupyter Notebook\n",
    "\n",
    "# Ask the user to type in a search term\n",
    "search_term = input(\"Enter a term to search on Wikipedia: \")\n",
    "\n",
    "# Search for a page related to the term\n",
    "result = wikipedia.search(search_term)\n",
    "\n",
    "# If we get a result, get the summary and display it\n",
    "if result:\n",
    "    summary = wikipedia.summary(result[0])  # Get the first result's summary\n",
    "    print(search_term)  # Display the search term\n",
    "    display(Markdown(summary))  # Display the summary in Jupyter Notebook\n",
    "else:\n",
    "    print(\"No results found.\")\n"
   ]
  },
  {
   "cell_type": "markdown",
   "metadata": {},
   "source": [
    "# ***Adding emoji to the articles ↓↓↓***"
   ]
  },
  {
   "cell_type": "code",
   "execution_count": 32,
   "metadata": {},
   "outputs": [
    {
     "data": {
      "text/markdown": [
       "### 📰 ‘The Mandalorian’ finally comes into focus, while giving out a ‘Rebels’ yell 👍"
      ],
      "text/plain": [
       "<IPython.core.display.Markdown object>"
      ]
     },
     "metadata": {},
     "output_type": "display_data"
    },
    {
     "data": {
      "text/markdown": [
       "Editor’s Note: The following contains spoilers about the fifth episode of “The Mandalorian,” Season 3, “The Pirate.”\n",
       "\n",
       "CNN —\n",
       "\n",
       "After what can at best be described as a somewhat disjointed third season thus far, the fifth episode of “The Mandalorian” began to bring those pieces together and into focus, while continuing to draw upon the “Star Wars” animated series that preceded it, including another cameo by a character from the rightfully lauded “Rebels.”\n",
       "\n",
       "Subtitled “The Pirate,” the episode presented further evidence of the dysfunctional nature of the New Republic, unable or unwilling to defend a faraway planet from an invading band of pirates. (Lucasfilm being a unit of Disney, the marauders had a certain “Yo ho, yo ho” vibe to them.)\n",
       "\n",
       "The siege also played into Mandalorian politics, and the efforts of Bo-Katan (Katee Sackhoff) to reclaim her heritage and potentially reunite her people’s various tribes, after leading them, along with Din Djarin (voiced by Pedro Pascal), to the rescue of his pal Greef Karga (Carl Weathers) and the planet’s residents.\n",
       "\n",
       "Still, the most pleasing moment for longtime “Star Wars” fans was likely what amounted to a throwaway scene, introducing a live-action version of the hulking alien Zeb, a character from the animated “Star Wars Rebels,” which concluded in 2018. “The Mandalorian” has drawn heavily from those properties, which were overseen by one of its executive producers, Dave Filoni. (In another nice touch, Steve Blum again provided the voice of the character, and Zeb looked a whole lot better than the pirate leader.)\n",
       "\n",
       "Finally, the episode closed with evidence that the evil Moff Gideon (played by Giancarlo Esposito previously) had seemingly been freed from the prison ship that was transporting him to stand trial, reviving that potential threat.\n",
       "\n",
       "Having resolved the fate of Grogu, a.k.a. Baby Yoda, during the first two seasons, “The Mandalorian” has thus moved on to fill in narrative gaps about an under-explored chapter in “Star Wars” history – namely, the factors that resulted in the fall of the New Republic and the rise of the First Order, the plot line featured in the most recent trilogy that began with “The Force Awakens.”\n",
       "\n",
       "“This isn’t a rebellion anymore,” a bureaucrat (played by Tim Meadows) says about what happens outside of the New Republic’s jurisdiction, conveying an indifference to the fate of the planet Nevarro overtly articulated later when it was observed that the governing body in Coruscant “doesn’t care.”\n",
       "\n",
       "Executive producers Jon Favreau and Filoni have taken their time in reaching this point, juggling these various issues in somewhat ungainly fashion through the first half of the season. That perhaps reflects the transition of the show to an emphasis on the macro instead of the micro, while still finding time to detour for the occasional “Rebels” yell."
      ],
      "text/plain": [
       "<IPython.core.display.Markdown object>"
      ]
     },
     "metadata": {},
     "output_type": "display_data"
    }
   ],
   "source": [
    "from newspaper import Article\n",
    "from emoji import emojize\n",
    "from IPython.display import display, Markdown\n",
    "\n",
    "# Set the URL of the article we want to read\n",
    "url = \"http://cnn.com/2023/03/29/entertainment/the-mandalorian-episode-5-recap/index.html\"\n",
    "\n",
    "# Create an article object and download its content\n",
    "article = Article(url)\n",
    "article.download()  # Get the article data from the web\n",
    "article.parse()  # Read the text of the article\n",
    "\n",
    "# Add some fun emojis to the article title\n",
    "emoji_title = emojize(\":newspaper: \") + article.title + emojize(\" :thumbs_up:\")\n",
    "\n",
    "# Display the title with emojis and the article text in Jupyter Notebook\n",
    "display(Markdown(f\"### {emoji_title}\"))\n",
    "display(Markdown(article.text))\n"
   ]
  },
  {
   "cell_type": "markdown",
   "metadata": {},
   "source": [
    "# ***Statistics ↓↓↓***"
   ]
  },
  {
   "cell_type": "code",
   "execution_count": 11,
   "metadata": {},
   "outputs": [
    {
     "name": "stdout",
     "output_type": "stream",
     "text": [
      "Average (Mean): 105.25\n",
      "Middle value (Median): 82.5\n",
      "How spread out (Standard Deviation): 102.00525196562886\n"
     ]
    }
   ],
   "source": [
    "import statistics as stats\n",
    "\n",
    "# List of some numbers (like test scores)\n",
    "data = [99, 345, 11, 44, 88, 66, 77, 112]\n",
    "\n",
    "# Find the average (mean) of the numbers\n",
    "mean = stats.mean(data)\n",
    "\n",
    "# Find the middle value (median) of the numbers\n",
    "median = stats.median(data)\n",
    "\n",
    "# Find how spread out the numbers are (standard deviation)\n",
    "stdev = stats.stdev(data)\n",
    "\n",
    "# Show the results\n",
    "print(f\"Average (Mean): {mean}\")\n",
    "print(f\"Middle value (Median): {median}\")\n",
    "print(f\"How spread out (Standard Deviation): {stdev}\")\n"
   ]
  }
 ],
 "metadata": {
  "kernelspec": {
   "display_name": "Python 3",
   "language": "python",
   "name": "python3"
  },
  "language_info": {
   "codemirror_mode": {
    "name": "ipython",
    "version": 3
   },
   "file_extension": ".py",
   "mimetype": "text/x-python",
   "name": "python",
   "nbconvert_exporter": "python",
   "pygments_lexer": "ipython3",
   "version": "3.10.12"
  }
 },
 "nbformat": 4,
 "nbformat_minor": 2
}
