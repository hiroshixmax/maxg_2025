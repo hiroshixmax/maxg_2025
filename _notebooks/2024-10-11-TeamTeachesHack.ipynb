{
 "cells": [
  {
   "cell_type": "markdown",
   "metadata": {},
   "source": [
    "---\n",
    "layout: post\n",
    "categories: [DevOps]\n",
    "title: Team Teaching HACKS\n",
    "description:  Here's where I will present \"Team Teaching HACKS\"\n",
    "courses: {csp: {week: 7}}\n",
    "type: ccc \n",
    "comments: true\n",
    "---"
   ]
  },
  {
   "cell_type": "markdown",
   "metadata": {},
   "source": [
    "# **3.1.2 Python Hacks**"
   ]
  },
  {
   "cell_type": "markdown",
   "metadata": {},
   "source": [
    "Popcorn Hack #1"
   ]
  },
  {
   "cell_type": "code",
   "execution_count": 5,
   "metadata": {},
   "outputs": [
    {
     "name": "stdout",
     "output_type": "stream",
     "text": [
      "Initial value: 42 - Type: <class 'int'>\n",
      "After changing to float: 42.0 - Type: <class 'float'>\n",
      "After changing to string: Forty-Two - Type: <class 'str'>\n",
      "After changing to boolean: True - Type: <class 'bool'>\n"
     ]
    }
   ],
   "source": [
    "# Step 1: Initialize the variable\n",
    "var = 42\n",
    "print(\"Initial value:\", var, \"- Type:\", type(var))  # Integer\n",
    "\n",
    "# Step 2: Reassign a new type (Float)\n",
    "var = 42.0\n",
    "print(\"After changing to float:\", var, \"- Type:\", type(var))\n",
    "\n",
    "# Step 3: Reassign to another type (String)\n",
    "var = \"Forty-Two\"\n",
    "print(\"After changing to string:\", var, \"- Type:\", type(var))\n",
    "\n",
    "# Step 4: Reassign to a boolean\n",
    "var = True\n",
    "print(\"After changing to boolean:\", var, \"- Type:\", type(var))\n"
   ]
  },
  {
   "cell_type": "markdown",
   "metadata": {},
   "source": [
    "Popcorn Hack #2"
   ]
  },
  {
   "cell_type": "code",
   "execution_count": 6,
   "metadata": {},
   "outputs": [
    {
     "name": "stdout",
     "output_type": "stream",
     "text": [
      "Before swapping: a = 5 b = 10\n",
      "After swapping: a = 10 b = 5\n"
     ]
    }
   ],
   "source": [
    "# Step 1: Initialize variables\n",
    "a = 5\n",
    "b = 10\n",
    "print(\"Before swapping: a =\", a, \"b =\", b)\n",
    "\n",
    "# Step 2: Swap values without using a temporary variable\n",
    "a, b = b, a  # Python allows swapping in one line!\n",
    "\n",
    "# Step 3: Print the swapped values\n",
    "print(\"After swapping: a =\", a, \"b =\", b)\n"
   ]
  },
  {
   "cell_type": "markdown",
   "metadata": {},
   "source": [
    "Popcorn Hack #3"
   ]
  },
  {
   "cell_type": "code",
   "execution_count": 7,
   "metadata": {},
   "outputs": [
    {
     "name": "stdout",
     "output_type": "stream",
     "text": [
      "Memory address of x: 140190821469520\n",
      "Memory address of y: 140190821469520\n",
      "x and y point to the same memory address.\n"
     ]
    }
   ],
   "source": [
    "# Step 1: Assign the same value to two variables\n",
    "x = 100\n",
    "y = 100\n",
    "\n",
    "# Step 2: Compare memory addresses\n",
    "print(\"Memory address of x:\", id(x))\n",
    "print(\"Memory address of y:\", id(y))\n",
    "\n",
    "# Step 3: Print whether they are stored at the same location\n",
    "if id(x) == id(y):\n",
    "    print(\"x and y point to the same memory address.\")\n",
    "else:\n",
    "    print(\"x and y point to different memory addresses.\")\n"
   ]
  },
  {
   "cell_type": "markdown",
   "metadata": {},
   "source": [
    "# **3.1.4 JavaScript Hack**"
   ]
  },
  {
   "cell_type": "markdown",
   "metadata": {},
   "source": [
    "Popcorn Hack #1"
   ]
  },
  {
   "cell_type": "code",
   "execution_count": null,
   "metadata": {
    "vscode": {
     "languageId": "javascript"
    }
   },
   "outputs": [],
   "source": [
    "// Variables for user profile\n",
    "let fullName = \"John Doe\";\n",
    "let age = 30;\n",
    "let email = \"johndoe@example.com\";\n",
    "let accountBalance = 1500;\n",
    "\n",
    "// Display the information\n",
    "console.log(fullName + \", aged \" + age + \", can be contacted at \" + email + \" and has a balance of $\" + accountBalance + \" in his account.\");\n"
   ]
  },
  {
   "cell_type": "markdown",
   "metadata": {},
   "source": [
    "Popcorn Hack #2"
   ]
  },
  {
   "cell_type": "code",
   "execution_count": null,
   "metadata": {
    "vscode": {
     "languageId": "javascript"
    }
   },
   "outputs": [],
   "source": [
    "// Variables for first product\n",
    "let productName1 = \"Laptop\";\n",
    "let productPrice1 = 1200;\n",
    "let productStock1 = 10;\n",
    "\n",
    "// Variables for second product\n",
    "let productName2 = \"Smartphone\";\n",
    "let productPrice2 = 800;\n",
    "let productStock2 = 15;\n",
    "\n",
    "// Display the information\n",
    "console.log(\"The store has \" + productStock1 + \" units of \" + productName1 + \" priced at $\" + productPrice1 + \" each.\");\n",
    "console.log(\"The store has \" + productStock2 + \" units of \" + productName2 + \" priced at $\" + productPrice2 + \" each.\");\n"
   ]
  },
  {
   "cell_type": "markdown",
   "metadata": {},
   "source": [
    "Popcorn Hack #3"
   ]
  },
  {
   "cell_type": "code",
   "execution_count": null,
   "metadata": {
    "vscode": {
     "languageId": "javascript"
    }
   },
   "outputs": [],
   "source": [
    "// Variables for item price, quantity, and tax rate\n",
    "let itemPrice = 20;\n",
    "let quantity = 3;\n",
    "let taxRate = 0.10;  // 10%\n",
    "\n",
    "// Calculate the total price after tax\n",
    "let totalPriceAfterTax = (itemPrice * quantity) * (1 + taxRate);\n",
    "\n",
    "// Display the total price\n",
    "console.log(\"The total price for \" + quantity + \" items each priced at $\" + itemPrice + \" with a tax rate of \" + (taxRate * 100) + \"% is $\" + totalPriceAfterTax.toFixed(2) + \".\");\n"
   ]
  },
  {
   "cell_type": "markdown",
   "metadata": {},
   "source": [
    "# **3.2.1 Data Types PT1**"
   ]
  },
  {
   "cell_type": "markdown",
   "metadata": {},
   "source": [
    "Popcorn Hack #1"
   ]
  },
  {
   "cell_type": "code",
   "execution_count": 13,
   "metadata": {},
   "outputs": [
    {
     "name": "stdout",
     "output_type": "stream",
     "text": [
      "The sum of 8 and 2 is: 10\n"
     ]
    }
   ],
   "source": [
    "def add_two_numbers(num1, num2):\n",
    "    \"\"\"Function to add two integers.\"\"\"\n",
    "    return num1 + num2\n",
    "\n",
    "# Get user input\n",
    "try:\n",
    "    # Prompt the user for two integers\n",
    "    first_number = int(input(\"Enter the first integer: \"))\n",
    "    second_number = int(input(\"Enter the second integer: \"))\n",
    "\n",
    "    # Call the function to add the numbers\n",
    "    result = add_two_numbers(first_number, second_number)\n",
    "\n",
    "    # Print the result\n",
    "    print(f\"The sum of {first_number} and {second_number} is: {result}\")\n",
    "\n",
    "except ValueError:\n",
    "    print(\"Please enter valid integers.\")\n"
   ]
  },
  {
   "cell_type": "markdown",
   "metadata": {},
   "source": [
    "Popcorn Hack #2"
   ]
  },
  {
   "cell_type": "code",
   "execution_count": 12,
   "metadata": {},
   "outputs": [
    {
     "name": "stdout",
     "output_type": "stream",
     "text": [
      "The length of the entered string is: 4\n"
     ]
    }
   ],
   "source": [
    "# Get user input\n",
    "user_string = input(\"Please enter a string: \")\n",
    "\n",
    "# Count the length of the string\n",
    "string_length = len(user_string)\n",
    "\n",
    "# Print the length of the string\n",
    "print(f\"The length of the entered string is: {string_length}\")\n"
   ]
  },
  {
   "cell_type": "markdown",
   "metadata": {},
   "source": [
    "Popcorn Hack #3"
   ]
  },
  {
   "cell_type": "code",
   "execution_count": null,
   "metadata": {
    "vscode": {
     "languageId": "javascript"
    }
   },
   "outputs": [],
   "source": [
    "function isNull(val) {\n",
    "    return val === null ? \"No value\" : \"Value exists\";\n",
    "}\n",
    "\n",
    "// Test the function\n",
    "console.log(isNull(null));  // Output: No value\n",
    "console.log(isNull(10));    // Output: Value exists\n"
   ]
  },
  {
   "cell_type": "markdown",
   "metadata": {},
   "source": [
    "# **3.2.2 Data Types PT2**"
   ]
  },
  {
   "cell_type": "markdown",
   "metadata": {},
   "source": [
    "Popcorn Hack #1"
   ]
  },
  {
   "cell_type": "code",
   "execution_count": 14,
   "metadata": {},
   "outputs": [
    {
     "name": "stdout",
     "output_type": "stream",
     "text": [
      "{'name': 'Max', 'age': 16, 'is_student': True, 'David': {'name': 'Jason', 'age': 17, 'is_student': True}}\n"
     ]
    }
   ],
   "source": [
    "# Creating the dictionary\n",
    "person = {\n",
    "    \"name\": \"Max\",\n",
    "    \"age\": 16,\n",
    "    \"is_student\": True\n",
    "}\n",
    "\n",
    "# Update an existing item (updating Alice's age)\n",
    "person[\"age\"] = 16\n",
    "\n",
    "# Adding a new item (adding details for David)\n",
    "person[\"David\"] = {\n",
    "    \"name\": \"Jason\",\n",
    "    \"age\": 17,\n",
    "    \"is_student\": True\n",
    "}\n",
    "\n",
    "# Printing the updated dictionary\n",
    "print(person)\n"
   ]
  },
  {
   "cell_type": "markdown",
   "metadata": {},
   "source": [
    "# **3.2.3 JSON**"
   ]
  },
  {
   "cell_type": "markdown",
   "metadata": {},
   "source": [
    "Popcorn Hack 1"
   ]
  },
  {
   "cell_type": "code",
   "execution_count": 15,
   "metadata": {},
   "outputs": [
    {
     "name": "stdout",
     "output_type": "stream",
     "text": [
      "Original JSON:\n",
      "{\n",
      "    \"title\": \"Python for Beginners\",\n",
      "    \"author\": \"Jane Smith\",\n",
      "    \"publication_year\": 2022,\n",
      "    \"genres\": [\n",
      "        \"Education\",\n",
      "        \"Programming\",\n",
      "        \"Technology\"\n",
      "    ],\n",
      "    \"ratings\": {\n",
      "        \"average_rating\": 4.7,\n",
      "        \"number_of_ratings\": 180\n",
      "    }\n",
      "}\n",
      "\n",
      "Updated JSON:\n",
      "{\n",
      "    \"title\": \"Python for Beginners\",\n",
      "    \"author\": \"Jane Smith\",\n",
      "    \"publication_year\": 2022,\n",
      "    \"genres\": [\n",
      "        \"Education\",\n",
      "        \"Programming\",\n",
      "        \"Technology\"\n",
      "    ],\n",
      "    \"ratings\": {\n",
      "        \"average_rating\": 4.9,\n",
      "        \"number_of_ratings\": 180\n",
      "    }\n",
      "}\n"
     ]
    }
   ],
   "source": [
    "import json\n",
    "\n",
    "# Initial dictionary for book data\n",
    "book_data = {\n",
    "    \"title\": \"Python for Beginners\",\n",
    "    \"author\": \"Jane Smith\",\n",
    "    \"publication_year\": 2022,\n",
    "    \"genres\": [\n",
    "        \"Education\",\n",
    "        \"Programming\",\n",
    "        \"Technology\"\n",
    "    ],\n",
    "    \"ratings\": {\n",
    "        \"average_rating\": 4.7,\n",
    "        \"number_of_ratings\": 180\n",
    "    }\n",
    "}\n",
    "\n",
    "# Convert the dictionary to JSON format and print it\n",
    "book_json = json.dumps(book_data, indent=4)\n",
    "print(\"Original JSON:\")\n",
    "print(book_json)\n",
    "\n",
    "# Modify the average rating in the dictionary\n",
    "book_data['ratings']['average_rating'] = 4.9\n",
    "\n",
    "# Convert the updated dictionary back to JSON and print it\n",
    "updated_book_json = json.dumps(book_data, indent=4)\n",
    "print(\"\\nUpdated JSON:\")\n",
    "print(updated_book_json)\n"
   ]
  },
  {
   "cell_type": "markdown",
   "metadata": {},
   "source": [
    "Homework Hack "
   ]
  },
  {
   "cell_type": "code",
   "execution_count": 16,
   "metadata": {},
   "outputs": [
    {
     "name": "stdout",
     "output_type": "stream",
     "text": [
      "{'make': 'Tesla', 'model': 'Model 3', 'year': 2023}\n"
     ]
    }
   ],
   "source": [
    "# Creating a dictionary with 3 keys\n",
    "car = {\n",
    "    \"make\": \"Tesla\",\n",
    "    \"model\": \"Model 3\",\n",
    "    \"year\": 2023\n",
    "}\n",
    "\n",
    "# Print the dictionary\n",
    "print(car)\n"
   ]
  },
  {
   "cell_type": "code",
   "execution_count": 17,
   "metadata": {},
   "outputs": [
    {
     "name": "stdout",
     "output_type": "stream",
     "text": [
      "{'name': 'Alice', 'age': 31}\n"
     ]
    }
   ],
   "source": [
    "# Initial dictionary\n",
    "person = {\"name\": \"Alice\", \"age\": 30}\n",
    "\n",
    "# Update the age to 31\n",
    "person[\"age\"] = 31\n",
    "\n",
    "# Print the updated dictionary\n",
    "print(person)\n"
   ]
  },
  {
   "cell_type": "markdown",
   "metadata": {},
   "source": [
    "# **3.3 HW Hack**"
   ]
  },
  {
   "cell_type": "markdown",
   "metadata": {},
   "source": [
    "Popcorn Hack #1"
   ]
  },
  {
   "cell_type": "code",
   "execution_count": 18,
   "metadata": {},
   "outputs": [
    {
     "name": "stdout",
     "output_type": "stream",
     "text": [
      "15\n",
      "5\n",
      "2.0\n",
      "1\n",
      "8\n"
     ]
    }
   ],
   "source": [
    "def add(a, b):\n",
    "    return a + b\n",
    "def subtract(a, b):\n",
    "    return a - b\n",
    "def divide(a, b):\n",
    "    if b != 0:\n",
    "        return a / b\n",
    "    else:\n",
    "        return \"Cannot divide by zero!\"\n",
    "def modulus(a, b):\n",
    "    return a % b\n",
    "def power(a, b):\n",
    "    return a ** b\n",
    "\n",
    "# Testing the functions\n",
    "print(add(10, 5))        # Output: 15\n",
    "print(subtract(10, 5))   # Output: 5\n",
    "print(divide(10, 5))     # Output: 2.0\n",
    "print(modulus(10, 3))    # Output: 1\n",
    "print(power(2, 3))       # Output: 8\n"
   ]
  },
  {
   "cell_type": "markdown",
   "metadata": {},
   "source": [
    "Popcorn Hack #2"
   ]
  },
  {
   "cell_type": "code",
   "execution_count": 20,
   "metadata": {},
   "outputs": [
    {
     "name": "stdout",
     "output_type": "stream",
     "text": [
      "For x = 3, f(x) = 17\n",
      "For x = -2, f(x) = -8\n"
     ]
    }
   ],
   "source": [
    "# Testing the function for different x values\n",
    "x_value = 3\n",
    "y_value = find_y(x_value)\n",
    "print(f\"For x = {x_value}, f(x) = {y_value}\")  # Output: For x = 3, f(x) = 17\n",
    "\n",
    "x_value = -2\n",
    "y_value = find_y(x_value)\n",
    "print(f\"For x = {x_value}, f(x) = {y_value}\")  # Output: For x = -2, f(x) = -8\n"
   ]
  },
  {
   "cell_type": "markdown",
   "metadata": {},
   "source": [
    "# **3.4.2 Python Hacks**"
   ]
  },
  {
   "cell_type": "markdown",
   "metadata": {},
   "source": [
    "Popcorn Hack #1"
   ]
  },
  {
   "cell_type": "code",
   "execution_count": 21,
   "metadata": {},
   "outputs": [
    {
     "name": "stdout",
     "output_type": "stream",
     "text": [
      "!dlroW ,olleH\n"
     ]
    }
   ],
   "source": [
    "def reverse_string(s):\n",
    "    \"\"\"Returns the reversed string.\"\"\"\n",
    "    return s[::-1]\n",
    "\n",
    "# Example usage\n",
    "print(reverse_string(\"Hello, World!\"))  # Output: !dlroW ,olleH\n"
   ]
  },
  {
   "cell_type": "markdown",
   "metadata": {},
   "source": [
    "Popcorn Hack #2"
   ]
  },
  {
   "cell_type": "code",
   "execution_count": 22,
   "metadata": {},
   "outputs": [
    {
     "name": "stdout",
     "output_type": "stream",
     "text": [
      "3\n"
     ]
    }
   ],
   "source": [
    "def count_vowels(s):\n",
    "    \"\"\"Counts the number of vowels in the string.\"\"\"\n",
    "    vowels = 'aeiouAEIOU'\n",
    "    count = sum(1 for char in s if char in vowels)\n",
    "    return count\n",
    "\n",
    "# Example usage\n",
    "print(count_vowels(\"Hello, World!\"))  # Output: 3\n"
   ]
  },
  {
   "cell_type": "markdown",
   "metadata": {},
   "source": [
    "Popcorn Hack #3"
   ]
  },
  {
   "cell_type": "code",
   "execution_count": 23,
   "metadata": {},
   "outputs": [
    {
     "name": "stdout",
     "output_type": "stream",
     "text": [
      "xyz is fun! xyz is great.\n"
     ]
    }
   ],
   "source": [
    "def replace_abc_with_xyz(s):\n",
    "    \"\"\"Replaces all occurrences of 'abc' with 'xyz'.\"\"\"\n",
    "    return s.replace('abc', 'xyz')\n",
    "\n",
    "# Example usage\n",
    "print(replace_abc_with_xyz(\"abc is fun! abc is great.\"))  # Output: xyz is fun! xyz is great.\n"
   ]
  },
  {
   "cell_type": "markdown",
   "metadata": {},
   "source": [
    "Popcorn Hack #4"
   ]
  },
  {
   "cell_type": "code",
   "execution_count": 24,
   "metadata": {},
   "outputs": [
    {
     "name": "stdout",
     "output_type": "stream",
     "text": [
      "True\n",
      "False\n"
     ]
    }
   ],
   "source": [
    "import re\n",
    "\n",
    "def is_palindrome(s):\n",
    "    \"\"\"Checks if the string is a palindrome.\"\"\"\n",
    "    # Remove spaces, punctuation, and convert to lowercase\n",
    "    cleaned_string = re.sub(r'[^A-Za-z0-9]', '', s).lower()\n",
    "    return cleaned_string == cleaned_string[::-1]\n",
    "\n",
    "# Example usage\n",
    "print(is_palindrome(\"A man, a plan, a canal, Panama!\"))  # Output: True\n",
    "print(is_palindrome(\"Hello\"))  # Output: False\n"
   ]
  },
  {
   "cell_type": "markdown",
   "metadata": {},
   "source": [
    "Popcorn Hack #5"
   ]
  },
  {
   "cell_type": "code",
   "execution_count": 25,
   "metadata": {},
   "outputs": [
    {
     "name": "stdout",
     "output_type": "stream",
     "text": [
      "jumped\n"
     ]
    }
   ],
   "source": [
    "def longest_word(sentence):\n",
    "    \"\"\"Returns the longest word in a sentence.\"\"\"\n",
    "    words = sentence.split()\n",
    "    longest = max(words, key=len)\n",
    "    return longest\n",
    "\n",
    "# Example usage\n",
    "print(longest_word(\"The quick brown fox jumped over the lazy dog.\"))  # Output: jumped\n"
   ]
  },
  {
   "cell_type": "markdown",
   "metadata": {},
   "source": [
    "Popcorn Hack #6"
   ]
  },
  {
   "cell_type": "code",
   "execution_count": 26,
   "metadata": {},
   "outputs": [
    {
     "name": "stdout",
     "output_type": "stream",
     "text": [
      "5\n",
      "2028\n"
     ]
    }
   ],
   "source": [
    "def sum_of_numbers(s):\n",
    "    \"\"\"Extracts numbers from the string and returns their sum.\"\"\"\n",
    "    numbers = [int(num) for num in s.split() if num.isdigit()]\n",
    "    return sum(numbers)\n",
    "\n",
    "# Example usage\n",
    "print(sum_of_numbers(\"There are 2 apples and 3 oranges.\"))  # Output: 5\n",
    "print(sum_of_numbers(\"The year is 2023 and it is 5 days until my birthday.\"))  # Output: 2028\n"
   ]
  },
  {
   "cell_type": "markdown",
   "metadata": {},
   "source": [
    "# **3.4.4 Javascript Hacks**"
   ]
  },
  {
   "cell_type": "markdown",
   "metadata": {},
   "source": [
    "Popcorn Hack #1"
   ]
  },
  {
   "cell_type": "code",
   "execution_count": 27,
   "metadata": {},
   "outputs": [
    {
     "name": "stdout",
     "output_type": "stream",
     "text": [
      "['Algeria', 'Angola', 'Benin', 'Botswana', 'Burkina Faso', 'Burundi', 'Cabo Verde', 'Cameroon', 'Central African Republic', 'Chad', 'Comoros', 'Congo (Congo-Brazzaville)', 'Cote d’Ivoire', 'Djibouti', 'DR Congo (Congo-Kinshasa)', 'Egypt', 'Equatorial Guinea', 'Eritrea', 'Eswatini', 'Ethiopia', 'Gabon', 'Gambia', 'Ghana', 'Guinea', 'Guinea-Bissau', 'Kenya', 'Lesotho', 'Liberia', 'Libya', 'Madagascar', 'Malawi', 'Mali', 'Mauritania', 'Mauritius', 'Morocco', 'Mozambique', 'Namibia', 'Niger', 'Nigeria', 'Rwanda', 'Sao Tome and Principe', 'Senegal', 'Seychelles', 'Sierra Leone', 'Somalia', 'South Africa', 'South Sudan', 'Sudan', 'Tanzania', 'Togo', 'Tunisia', 'Uganda', 'Zambia', 'Zimbabwe']\n"
     ]
    }
   ],
   "source": [
    "# Given string of countries\n",
    "african_countries = \"Algeria, Angola, Benin, Botswana, Burkina Faso, Burundi, Cabo Verde, Cameroon, Central African Republic, Chad, Comoros, Congo (Congo-Brazzaville), Cote d’Ivoire, Djibouti, DR Congo (Congo-Kinshasa), Egypt, Equatorial Guinea, Eritrea, Eswatini, Ethiopia, Gabon, Gambia, Ghana, Guinea, Guinea-Bissau, Kenya, Lesotho, Liberia, Libya, Madagascar, Malawi, Mali, Mauritania, Mauritius, Morocco, Mozambique, Namibia, Niger, Nigeria, Rwanda, Sao Tome and Principe, Senegal, Seychelles, Sierra Leone, Somalia, South Africa, South Sudan, Sudan, Tanzania, Togo, Tunisia, Uganda, Zambia, Zimbabwe\"\n",
    "\n",
    "# Convert the string to a list (array) using the split method\n",
    "countries_array = african_countries.split(\", \")\n",
    "\n",
    "# Output the array of countries\n",
    "print(countries_array)\n"
   ]
  },
  {
   "cell_type": "markdown",
   "metadata": {},
   "source": [
    "Popcorn Hack #2"
   ]
  },
  {
   "cell_type": "code",
   "execution_count": 28,
   "metadata": {},
   "outputs": [
    {
     "name": "stdout",
     "output_type": "stream",
     "text": [
      "Jason, aged 16, loves eating Sushi and enjoys reading none.\n"
     ]
    }
   ],
   "source": [
    "# Prompt the user for their details\n",
    "name = input(\"Please enter your name: \")\n",
    "age = input(\"Please enter your age: \")\n",
    "favorite_food = input(\"Please enter your favorite food: \")\n",
    "favorite_book = input(\"Please enter your favorite book: \")\n",
    "\n",
    "# Create a cohesive message using string interpolation\n",
    "message = f\"{name}, aged {age}, loves eating {favorite_food} and enjoys reading {favorite_book}.\"\n",
    "\n",
    "# Output the message\n",
    "print(message)\n"
   ]
  },
  {
   "cell_type": "markdown",
   "metadata": {},
   "source": [
    "Popcorn Hack #3"
   ]
  },
  {
   "cell_type": "code",
   "execution_count": 29,
   "metadata": {},
   "outputs": [
    {
     "name": "stdout",
     "output_type": "stream",
     "text": [
      "The secret to life is (redacted)\n"
     ]
    }
   ],
   "source": [
    "# Original message with noise\n",
    "noisy_message = \"The...secret...to...life...is...(redacted)\"\n",
    "\n",
    "# Remove the noise using the replace method\n",
    "cleaned_message = noisy_message.replace(\"...\", \" \")\n",
    "\n",
    "# Output the cleaned message\n",
    "print(cleaned_message)  # Output: The secret to life is (redacted)\n"
   ]
  },
  {
   "cell_type": "code",
   "execution_count": 30,
   "metadata": {},
   "outputs": [
    {
     "name": "stdout",
     "output_type": "stream",
     "text": [
      "Cleaned Output: idk\n"
     ]
    }
   ],
   "source": [
    "# Function to remove noise from any input\n",
    "def remove_noise(user_input):\n",
    "    \"\"\"Removes white noise from the input string.\"\"\"\n",
    "    return user_input.replace(\"...\", \" \")\n",
    "\n",
    "# Get user input\n",
    "user_input = input(\"Please enter a string with noise: \")\n",
    "\n",
    "# Clean the input and print the result\n",
    "cleaned_input = remove_noise(user_input)\n",
    "print(\"Cleaned Output:\", cleaned_input)\n"
   ]
  },
  {
   "cell_type": "markdown",
   "metadata": {},
   "source": [
    "# **3.5 Booleans Hacks**"
   ]
  },
  {
   "cell_type": "markdown",
   "metadata": {},
   "source": [
    "Popcorn Hack #1"
   ]
  },
  {
   "cell_type": "code",
   "execution_count": 32,
   "metadata": {},
   "outputs": [
    {
     "name": "stdout",
     "output_type": "stream",
     "text": [
      "True\n",
      "True\n",
      "False\n",
      "False\n"
     ]
    }
   ],
   "source": [
    "def goOutside(temperature, isRaining):\n",
    "    # Check the conditions for going outside\n",
    "    if (temperature < 100 and isRaining) or (temperature > 32 and not isRaining):\n",
    "        return True\n",
    "    else:\n",
    "        return False\n",
    "\n",
    "# Example Usage\n",
    "print(goOutside(80, True))   # Output: True\n",
    "print(goOutside(50, False))  # Output: True\n",
    "print(goOutside(105, True))  # Output: False\n",
    "print(goOutside(30, False))  # Output: False\n"
   ]
  },
  {
   "cell_type": "markdown",
   "metadata": {},
   "source": [
    "Popcorn Hack #2"
   ]
  },
  {
   "cell_type": "code",
   "execution_count": null,
   "metadata": {
    "vscode": {
     "languageId": "javascript"
    }
   },
   "outputs": [],
   "source": [
    "// Original Expression 1\n",
    "let stayInside = !(isRaining && isCold);\n",
    "\n",
    "// Simplified using De Morgan's Law\n",
    "let stayInside = !isRaining || !isCold; // Complement of the intersection\n"
   ]
  },
  {
   "cell_type": "code",
   "execution_count": null,
   "metadata": {
    "vscode": {
     "languageId": "javascript"
    }
   },
   "outputs": [],
   "source": [
    "// Original Expression 2\n",
    "let stayInside = !(isRaining || isCold);\n",
    "\n",
    "// Simplified using De Morgan's Law\n",
    "let stayInside = !isRaining && !isCold; // Complement of the union\n"
   ]
  }
 ],
 "metadata": {
  "kernelspec": {
   "display_name": "venv",
   "language": "python",
   "name": "python3"
  },
  "language_info": {
   "codemirror_mode": {
    "name": "ipython",
    "version": 3
   },
   "file_extension": ".py",
   "mimetype": "text/x-python",
   "name": "python",
   "nbconvert_exporter": "python",
   "pygments_lexer": "ipython3",
   "version": "3.10.12"
  }
 },
 "nbformat": 4,
 "nbformat_minor": 2
}
