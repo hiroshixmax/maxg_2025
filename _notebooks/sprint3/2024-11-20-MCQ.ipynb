{
 "cells": [
  {
   "cell_type": "markdown",
   "metadata": {},
   "source": [
    "---\n",
    "layout: post\n",
    "categories: [DevOps]\n",
    "title: MCQ Corrections\n",
    "description:  Here's where I will present \"My MCQ Corrections\"\n",
    "courses: {csp: {week: 12}}\n",
    "type: ccc \n",
    "comments: true\n",
    "---"
   ]
  },
  {
   "cell_type": "markdown",
   "metadata": {},
   "source": [
    " "
   ]
  }
 ],
 "metadata": {
  "language_info": {
   "name": "python"
  }
 },
 "nbformat": 4,
 "nbformat_minor": 2
}
