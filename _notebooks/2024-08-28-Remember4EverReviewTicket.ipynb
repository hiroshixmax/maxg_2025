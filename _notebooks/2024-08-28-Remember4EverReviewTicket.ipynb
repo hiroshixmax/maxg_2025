{
 "cells": [
  {
   "cell_type": "markdown",
   "metadata": {},
   "source": [
    "---\n",
    "toc: true\n",
    "layout: post\n",
    "categories: ['Collaboration']\n",
    "title: Remember Forever Nighthawk Quiz Review Ticket\n",
    "Description: APCSP Remember Forever Nighthawk Quiz Review Ticket\n",
    "courses: {csp: {week: 1}}\n",
    "type: collab\n",
    "comments: True\n",
    "---\n"
   ]
  },
  {
   "cell_type": "markdown",
   "metadata": {},
   "source": [
    "**Click here to view the Review Ticket**\n",
    "\n",
    "\n",
    "[**APCSP Remember Forever Nighthawk Quiz Review Ticket**](https://github.com/JasonGuan1012/JasonCSA_2025/issues/1)\n"
   ]
  }
 ],
 "metadata": {
  "language_info": {
   "name": "python"
  }
 },
 "nbformat": 4,
 "nbformat_minor": 2
}
